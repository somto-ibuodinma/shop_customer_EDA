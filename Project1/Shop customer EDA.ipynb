{
 "cells": [
  {
   "cell_type": "markdown",
   "id": "a4528c68",
   "metadata": {},
   "source": [
    "### Description\n",
    ">Shop Customer Data a dataset of customers of an ideal shop. The information is supposedly gleaned from the membership cards.\n",
    "\n",
    " Dataset consists of 2000 records and 8 columns:\n",
    "\n",
    "* Customer ID\n",
    "* Gender\n",
    "* Age\n",
    "* Annual Income\n",
    "* Spending Score - Score assigned by the shop, based on customer behavior and spending nature\n",
    "* Profession\n",
    "* Work Experience - in years\n",
    "* Family Size\n",
    "\n",
    "### Objectives\n"
   ]
  },
  {
   "cell_type": "code",
   "execution_count": null,
   "id": "71ad319c",
   "metadata": {},
   "outputs": [],
   "source": []
  }
 ],
 "metadata": {
  "kernelspec": {
   "display_name": "Python 3 (ipykernel)",
   "language": "python",
   "name": "python3"
  },
  "language_info": {
   "codemirror_mode": {
    "name": "ipython",
    "version": 3
   },
   "file_extension": ".py",
   "mimetype": "text/x-python",
   "name": "python",
   "nbconvert_exporter": "python",
   "pygments_lexer": "ipython3",
   "version": "3.9.15"
  }
 },
 "nbformat": 4,
 "nbformat_minor": 5
}
