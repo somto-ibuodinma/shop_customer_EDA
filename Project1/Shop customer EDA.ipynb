{
 "cells": [
  {
   "cell_type": "markdown",
   "id": "fe825a49",
   "metadata": {},
   "source": [
    "Shop Customer Data is a detailed analysis of a imaginative shop's ideal customers. It helps a business to better understand its customers. The owner of a shop gets information about Customers through membership cards.\n",
    "\n",
    "Dataset consists of 2000 records and 8 columns:\n",
    "\n",
    "Customer ID\n",
    "Gender\n",
    "Age\n",
    "Annual Income\n",
    "Spending Score - Score assigned by the shop, based on customer behavior and spending nature\n",
    "Profession\n",
    "Work Experience - in years\n",
    "Family Size"
   ]
  }
 ],
 "metadata": {
  "kernelspec": {
   "display_name": "Python 3 (ipykernel)",
   "language": "python",
   "name": "python3"
  },
  "language_info": {
   "codemirror_mode": {
    "name": "ipython",
    "version": 3
   },
   "file_extension": ".py",
   "mimetype": "text/x-python",
   "name": "python",
   "nbconvert_exporter": "python",
   "pygments_lexer": "ipython3",
   "version": "3.9.15"
  }
 },
 "nbformat": 4,
 "nbformat_minor": 5
}
