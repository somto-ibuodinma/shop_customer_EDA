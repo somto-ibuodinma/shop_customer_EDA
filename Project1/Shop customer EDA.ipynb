{
 "cells": [
  {
   "cell_type": "code",
   "execution_count": null,
   "id": "1c45868c",
   "metadata": {},
   "outputs": [],
   "source": []
  },
  {
   "cell_type": "markdown",
   "id": "ed01bf7c",
   "metadata": {},
   "source": [
    "# Shop Customer EDA\n",
    "\n",
    "## By Ibuodinma Somtochukwu I\n",
    "\n",
    "\n",
    "### Description\n",
    ">Shop Customer Data a dataset of customers of an ideal shop. The information is supposedly gleaned from the membership cards.\n",
    "\n",
    " Dataset consists of 2000 records and 8 columns:\n",
    "\n",
    "* Customer ID\n",
    "* Gender\n",
    "* Age\n",
    "* Annual Income\n",
    "* Spending Score - Score assigned by the shop, based on customer behavior and spending nature\n",
    "* Profession\n",
    "* Work Experience - in years\n",
    "* Family Size\n",
    "\n",
    "### Objectives\n",
    "* Explore distributions of numeric columns using histograms etc.\n",
    "* Explore relationship between columns using scatter plots, bar charts etc.\n",
    "* Derive interesting insights from the exploratory analysis\n",
    "\n"
   ]
  },
  {
   "cell_type": "code",
   "execution_count": null,
   "id": "71214605",
   "metadata": {},
   "outputs": [],
   "source": []
  }
 ],
 "metadata": {
  "kernelspec": {
   "display_name": "Python 3 (ipykernel)",
   "language": "python",
   "name": "python3"
  },
  "language_info": {
   "codemirror_mode": {
    "name": "ipython",
    "version": 3
   },
   "file_extension": ".py",
   "mimetype": "text/x-python",
   "name": "python",
   "nbconvert_exporter": "python",
   "pygments_lexer": "ipython3",
   "version": "3.9.15"
  }
 },
 "nbformat": 4,
 "nbformat_minor": 5
}
