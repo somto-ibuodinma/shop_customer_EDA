{
 "cells": [
  {
   "cell_type": "markdown",
   "id": "ed01bf7c",
   "metadata": {},
   "source": [
    "# Shop Customer EDA\n",
    "\n",
    "## By Ibuodinma Somtochukwu I\n",
    "\n",
    "\n",
    "## Description\n",
    ">Shop Customer Data a dataset of customers of an ideal shop. The information is supposedly gleaned from the membership cards.\n",
    "\n",
    " Dataset consists of 2000 records and 8 columns:\n",
    "\n",
    "* Customer ID\n",
    "* Gender\n",
    "* Age\n",
    "* Annual Income\n",
    "* Spending Score - Score assigned by the shop, based on customer behavior and spending nature\n",
    "* Profession\n",
    "* Work Experience - in years\n",
    "* Family Size\n",
    "\n",
    "## Objectives\n",
    "* Explore distributions of numeric columns using histograms etc.\n",
    "* Explore relationship between columns using scatter plots, bar charts etc.\n",
    "* Derive interesting insights from the exploratory analysis\n",
    "\n"
   ]
  },
  {
   "cell_type": "code",
   "execution_count": 2,
   "id": "71214605",
   "metadata": {},
   "outputs": [],
   "source": [
    "# importing necessary libraries\n",
    "import pandas as pd\n",
    "import numpy as np\n",
    "import seaborn as sb\n",
    "import matplotlib.pyplot as plt\n",
    "%matplotlib inline\n",
    "\n",
    "import warnings\n",
    "warnings.filterwarnings('ignore')"
   ]
  },
  {
   "cell_type": "code",
   "execution_count": 3,
   "id": "9759c64f",
   "metadata": {},
   "outputs": [],
   "source": [
    "df_customer = pd.read_csv('Customers.csv')#reading the csv file into a dataframe"
   ]
  },
  {
   "cell_type": "code",
   "execution_count": 4,
   "id": "ac1e1217",
   "metadata": {},
   "outputs": [
    {
     "data": {
      "text/html": [
       "<div>\n",
       "<style scoped>\n",
       "    .dataframe tbody tr th:only-of-type {\n",
       "        vertical-align: middle;\n",
       "    }\n",
       "\n",
       "    .dataframe tbody tr th {\n",
       "        vertical-align: top;\n",
       "    }\n",
       "\n",
       "    .dataframe thead th {\n",
       "        text-align: right;\n",
       "    }\n",
       "</style>\n",
       "<table border=\"1\" class=\"dataframe\">\n",
       "  <thead>\n",
       "    <tr style=\"text-align: right;\">\n",
       "      <th></th>\n",
       "      <th>CustomerID</th>\n",
       "      <th>Gender</th>\n",
       "      <th>Age</th>\n",
       "      <th>Annual Income ($)</th>\n",
       "      <th>Spending Score (1-100)</th>\n",
       "      <th>Profession</th>\n",
       "      <th>Work Experience</th>\n",
       "      <th>Family Size</th>\n",
       "    </tr>\n",
       "  </thead>\n",
       "  <tbody>\n",
       "    <tr>\n",
       "      <th>0</th>\n",
       "      <td>1</td>\n",
       "      <td>Male</td>\n",
       "      <td>19</td>\n",
       "      <td>15000</td>\n",
       "      <td>39</td>\n",
       "      <td>Healthcare</td>\n",
       "      <td>1</td>\n",
       "      <td>4</td>\n",
       "    </tr>\n",
       "    <tr>\n",
       "      <th>1</th>\n",
       "      <td>2</td>\n",
       "      <td>Male</td>\n",
       "      <td>21</td>\n",
       "      <td>35000</td>\n",
       "      <td>81</td>\n",
       "      <td>Engineer</td>\n",
       "      <td>3</td>\n",
       "      <td>3</td>\n",
       "    </tr>\n",
       "    <tr>\n",
       "      <th>2</th>\n",
       "      <td>3</td>\n",
       "      <td>Female</td>\n",
       "      <td>20</td>\n",
       "      <td>86000</td>\n",
       "      <td>6</td>\n",
       "      <td>Engineer</td>\n",
       "      <td>1</td>\n",
       "      <td>1</td>\n",
       "    </tr>\n",
       "    <tr>\n",
       "      <th>3</th>\n",
       "      <td>4</td>\n",
       "      <td>Female</td>\n",
       "      <td>23</td>\n",
       "      <td>59000</td>\n",
       "      <td>77</td>\n",
       "      <td>Lawyer</td>\n",
       "      <td>0</td>\n",
       "      <td>2</td>\n",
       "    </tr>\n",
       "    <tr>\n",
       "      <th>4</th>\n",
       "      <td>5</td>\n",
       "      <td>Female</td>\n",
       "      <td>31</td>\n",
       "      <td>38000</td>\n",
       "      <td>40</td>\n",
       "      <td>Entertainment</td>\n",
       "      <td>2</td>\n",
       "      <td>6</td>\n",
       "    </tr>\n",
       "  </tbody>\n",
       "</table>\n",
       "</div>"
      ],
      "text/plain": [
       "   CustomerID  Gender  Age  Annual Income ($)  Spending Score (1-100)  \\\n",
       "0           1    Male   19              15000                      39   \n",
       "1           2    Male   21              35000                      81   \n",
       "2           3  Female   20              86000                       6   \n",
       "3           4  Female   23              59000                      77   \n",
       "4           5  Female   31              38000                      40   \n",
       "\n",
       "      Profession  Work Experience  Family Size  \n",
       "0     Healthcare                1            4  \n",
       "1       Engineer                3            3  \n",
       "2       Engineer                1            1  \n",
       "3         Lawyer                0            2  \n",
       "4  Entertainment                2            6  "
      ]
     },
     "execution_count": 4,
     "metadata": {},
     "output_type": "execute_result"
    }
   ],
   "source": [
    "df_customer.head(5)"
   ]
  },
  {
   "cell_type": "markdown",
   "id": "8c09b8b8",
   "metadata": {},
   "source": [
    "## Assessing and Cleaning the dataset"
   ]
  },
  {
   "cell_type": "code",
   "execution_count": 5,
   "id": "7a88100d",
   "metadata": {},
   "outputs": [
    {
     "name": "stdout",
     "output_type": "stream",
     "text": [
      "<class 'pandas.core.frame.DataFrame'>\n",
      "RangeIndex: 2000 entries, 0 to 1999\n",
      "Data columns (total 8 columns):\n",
      " #   Column                  Non-Null Count  Dtype \n",
      "---  ------                  --------------  ----- \n",
      " 0   CustomerID              2000 non-null   int64 \n",
      " 1   Gender                  2000 non-null   object\n",
      " 2   Age                     2000 non-null   int64 \n",
      " 3   Annual Income ($)       2000 non-null   int64 \n",
      " 4   Spending Score (1-100)  2000 non-null   int64 \n",
      " 5   Profession              1965 non-null   object\n",
      " 6   Work Experience         2000 non-null   int64 \n",
      " 7   Family Size             2000 non-null   int64 \n",
      "dtypes: int64(6), object(2)\n",
      "memory usage: 125.1+ KB\n"
     ]
    }
   ],
   "source": [
    "df_customer.info()# checking the basic property of the dataframe"
   ]
  },
  {
   "cell_type": "markdown",
   "id": "18daec4c",
   "metadata": {},
   "source": [
    "###  Observations\n",
    "\n",
    "* The column *Profession* has incomplete data\n",
    "* 2000 rows and 18 columns\n",
    "* The numerical data include CustomerID, Annual Income ($), Spending Score (1-100), Work Experience, Family Size\n",
    "* For ease of evaluation we need to modify the names of the columns eg using underscore to separate the names that comprise two words and removing brackets and dollars sign which are recognized symbols in python\n"
   ]
  },
  {
   "cell_type": "code",
   "execution_count": 6,
   "id": "02541c74",
   "metadata": {},
   "outputs": [
    {
     "data": {
      "text/html": [
       "<div>\n",
       "<style scoped>\n",
       "    .dataframe tbody tr th:only-of-type {\n",
       "        vertical-align: middle;\n",
       "    }\n",
       "\n",
       "    .dataframe tbody tr th {\n",
       "        vertical-align: top;\n",
       "    }\n",
       "\n",
       "    .dataframe thead th {\n",
       "        text-align: right;\n",
       "    }\n",
       "</style>\n",
       "<table border=\"1\" class=\"dataframe\">\n",
       "  <thead>\n",
       "    <tr style=\"text-align: right;\">\n",
       "      <th></th>\n",
       "      <th>CustomerID</th>\n",
       "      <th>Age</th>\n",
       "      <th>Annual Income ($)</th>\n",
       "      <th>Spending Score (1-100)</th>\n",
       "      <th>Work Experience</th>\n",
       "      <th>Family Size</th>\n",
       "    </tr>\n",
       "  </thead>\n",
       "  <tbody>\n",
       "    <tr>\n",
       "      <th>count</th>\n",
       "      <td>2000.000000</td>\n",
       "      <td>2000.000000</td>\n",
       "      <td>2000.000000</td>\n",
       "      <td>2000.000000</td>\n",
       "      <td>2000.000000</td>\n",
       "      <td>2000.000000</td>\n",
       "    </tr>\n",
       "    <tr>\n",
       "      <th>mean</th>\n",
       "      <td>1000.500000</td>\n",
       "      <td>48.960000</td>\n",
       "      <td>110731.821500</td>\n",
       "      <td>50.962500</td>\n",
       "      <td>4.102500</td>\n",
       "      <td>3.768500</td>\n",
       "    </tr>\n",
       "    <tr>\n",
       "      <th>std</th>\n",
       "      <td>577.494589</td>\n",
       "      <td>28.429747</td>\n",
       "      <td>45739.536688</td>\n",
       "      <td>27.934661</td>\n",
       "      <td>3.922204</td>\n",
       "      <td>1.970749</td>\n",
       "    </tr>\n",
       "    <tr>\n",
       "      <th>min</th>\n",
       "      <td>1.000000</td>\n",
       "      <td>0.000000</td>\n",
       "      <td>0.000000</td>\n",
       "      <td>0.000000</td>\n",
       "      <td>0.000000</td>\n",
       "      <td>1.000000</td>\n",
       "    </tr>\n",
       "    <tr>\n",
       "      <th>25%</th>\n",
       "      <td>500.750000</td>\n",
       "      <td>25.000000</td>\n",
       "      <td>74572.000000</td>\n",
       "      <td>28.000000</td>\n",
       "      <td>1.000000</td>\n",
       "      <td>2.000000</td>\n",
       "    </tr>\n",
       "    <tr>\n",
       "      <th>50%</th>\n",
       "      <td>1000.500000</td>\n",
       "      <td>48.000000</td>\n",
       "      <td>110045.000000</td>\n",
       "      <td>50.000000</td>\n",
       "      <td>3.000000</td>\n",
       "      <td>4.000000</td>\n",
       "    </tr>\n",
       "    <tr>\n",
       "      <th>75%</th>\n",
       "      <td>1500.250000</td>\n",
       "      <td>73.000000</td>\n",
       "      <td>149092.750000</td>\n",
       "      <td>75.000000</td>\n",
       "      <td>7.000000</td>\n",
       "      <td>5.000000</td>\n",
       "    </tr>\n",
       "    <tr>\n",
       "      <th>max</th>\n",
       "      <td>2000.000000</td>\n",
       "      <td>99.000000</td>\n",
       "      <td>189974.000000</td>\n",
       "      <td>100.000000</td>\n",
       "      <td>17.000000</td>\n",
       "      <td>9.000000</td>\n",
       "    </tr>\n",
       "  </tbody>\n",
       "</table>\n",
       "</div>"
      ],
      "text/plain": [
       "        CustomerID          Age  Annual Income ($)  Spending Score (1-100)  \\\n",
       "count  2000.000000  2000.000000        2000.000000             2000.000000   \n",
       "mean   1000.500000    48.960000      110731.821500               50.962500   \n",
       "std     577.494589    28.429747       45739.536688               27.934661   \n",
       "min       1.000000     0.000000           0.000000                0.000000   \n",
       "25%     500.750000    25.000000       74572.000000               28.000000   \n",
       "50%    1000.500000    48.000000      110045.000000               50.000000   \n",
       "75%    1500.250000    73.000000      149092.750000               75.000000   \n",
       "max    2000.000000    99.000000      189974.000000              100.000000   \n",
       "\n",
       "       Work Experience  Family Size  \n",
       "count      2000.000000  2000.000000  \n",
       "mean          4.102500     3.768500  \n",
       "std           3.922204     1.970749  \n",
       "min           0.000000     1.000000  \n",
       "25%           1.000000     2.000000  \n",
       "50%           3.000000     4.000000  \n",
       "75%           7.000000     5.000000  \n",
       "max          17.000000     9.000000  "
      ]
     },
     "execution_count": 6,
     "metadata": {},
     "output_type": "execute_result"
    }
   ],
   "source": [
    "df_customer.describe()# basic descriptive stats of the variables"
   ]
  },
  {
   "cell_type": "code",
   "execution_count": 7,
   "id": "0a6e6ec8",
   "metadata": {},
   "outputs": [],
   "source": [
    "df_customer.columns= df_customer.columns.str.replace(' ', '_')# replacing spaces in the column names with underscores"
   ]
  },
  {
   "cell_type": "markdown",
   "id": "7a6e1e74",
   "metadata": {},
   "source": [
    "Dealing with missing values in the *Profession* column\n",
    "\n",
    "The missing values contain significant data in other columns, hence should not be dropped\n",
    "\n",
    "We replace 'nan' with 'Not Available'"
   ]
  },
  {
   "cell_type": "code",
   "execution_count": 8,
   "id": "742b0c8c",
   "metadata": {},
   "outputs": [
    {
     "data": {
      "text/html": [
       "<div>\n",
       "<style scoped>\n",
       "    .dataframe tbody tr th:only-of-type {\n",
       "        vertical-align: middle;\n",
       "    }\n",
       "\n",
       "    .dataframe tbody tr th {\n",
       "        vertical-align: top;\n",
       "    }\n",
       "\n",
       "    .dataframe thead th {\n",
       "        text-align: right;\n",
       "    }\n",
       "</style>\n",
       "<table border=\"1\" class=\"dataframe\">\n",
       "  <thead>\n",
       "    <tr style=\"text-align: right;\">\n",
       "      <th></th>\n",
       "      <th>CustomerID</th>\n",
       "      <th>Gender</th>\n",
       "      <th>Age</th>\n",
       "      <th>Annual_Income_($)</th>\n",
       "      <th>Spending_Score_(1-100)</th>\n",
       "      <th>Profession</th>\n",
       "      <th>Work_Experience</th>\n",
       "      <th>Family_Size</th>\n",
       "    </tr>\n",
       "  </thead>\n",
       "  <tbody>\n",
       "    <tr>\n",
       "      <th>79</th>\n",
       "      <td>80</td>\n",
       "      <td>Female</td>\n",
       "      <td>49</td>\n",
       "      <td>98000</td>\n",
       "      <td>42</td>\n",
       "      <td>NaN</td>\n",
       "      <td>1</td>\n",
       "      <td>1</td>\n",
       "    </tr>\n",
       "    <tr>\n",
       "      <th>118</th>\n",
       "      <td>119</td>\n",
       "      <td>Female</td>\n",
       "      <td>51</td>\n",
       "      <td>84000</td>\n",
       "      <td>43</td>\n",
       "      <td>NaN</td>\n",
       "      <td>2</td>\n",
       "      <td>7</td>\n",
       "    </tr>\n",
       "    <tr>\n",
       "      <th>219</th>\n",
       "      <td>220</td>\n",
       "      <td>Female</td>\n",
       "      <td>59</td>\n",
       "      <td>76000</td>\n",
       "      <td>61</td>\n",
       "      <td>NaN</td>\n",
       "      <td>9</td>\n",
       "      <td>1</td>\n",
       "    </tr>\n",
       "    <tr>\n",
       "      <th>237</th>\n",
       "      <td>238</td>\n",
       "      <td>Male</td>\n",
       "      <td>95</td>\n",
       "      <td>36000</td>\n",
       "      <td>35</td>\n",
       "      <td>NaN</td>\n",
       "      <td>0</td>\n",
       "      <td>4</td>\n",
       "    </tr>\n",
       "    <tr>\n",
       "      <th>437</th>\n",
       "      <td>438</td>\n",
       "      <td>Male</td>\n",
       "      <td>76</td>\n",
       "      <td>136259</td>\n",
       "      <td>14</td>\n",
       "      <td>NaN</td>\n",
       "      <td>0</td>\n",
       "      <td>7</td>\n",
       "    </tr>\n",
       "  </tbody>\n",
       "</table>\n",
       "</div>"
      ],
      "text/plain": [
       "     CustomerID  Gender  Age  Annual_Income_($)  Spending_Score_(1-100)  \\\n",
       "79           80  Female   49              98000                      42   \n",
       "118         119  Female   51              84000                      43   \n",
       "219         220  Female   59              76000                      61   \n",
       "237         238    Male   95              36000                      35   \n",
       "437         438    Male   76             136259                      14   \n",
       "\n",
       "    Profession  Work_Experience  Family_Size  \n",
       "79         NaN                1            1  \n",
       "118        NaN                2            7  \n",
       "219        NaN                9            1  \n",
       "237        NaN                0            4  \n",
       "437        NaN                0            7  "
      ]
     },
     "execution_count": 8,
     "metadata": {},
     "output_type": "execute_result"
    }
   ],
   "source": [
    "df_customer[df_customer.Profession.isna()].head()# the missing values"
   ]
  },
  {
   "cell_type": "code",
   "execution_count": 9,
   "id": "d5537469",
   "metadata": {},
   "outputs": [],
   "source": [
    "df_customer.Profession= df_customer.Profession.fillna('Not Available')#filling the nan with Not Available\n"
   ]
  },
  {
   "cell_type": "code",
   "execution_count": 10,
   "id": "89d4be0b",
   "metadata": {},
   "outputs": [
    {
     "data": {
      "text/plain": [
       "array(['Healthcare', 'Engineer', 'Lawyer', 'Entertainment', 'Artist',\n",
       "       'Executive', 'Doctor', 'Homemaker', 'Marketing', 'Not Available'],\n",
       "      dtype=object)"
      ]
     },
     "execution_count": 10,
     "metadata": {},
     "output_type": "execute_result"
    }
   ],
   "source": [
    "df_customer.Profession.unique()#Checking for the data"
   ]
  },
  {
   "cell_type": "code",
   "execution_count": 11,
   "id": "d84a3bdc",
   "metadata": {},
   "outputs": [],
   "source": [
    "df_customer.columns= df_customer.columns.str.replace('(_\\(\\$\\))', '')#removing the dollar sign and the brackets\n"
   ]
  },
  {
   "cell_type": "code",
   "execution_count": 12,
   "id": "95c616d0",
   "metadata": {},
   "outputs": [],
   "source": [
    "df_customer.columns= df_customer.columns.str.replace('(_\\(1-100\\))', '')#removing the brackets"
   ]
  },
  {
   "cell_type": "code",
   "execution_count": 13,
   "id": "7df4e85e",
   "metadata": {},
   "outputs": [
    {
     "data": {
      "text/html": [
       "<div>\n",
       "<style scoped>\n",
       "    .dataframe tbody tr th:only-of-type {\n",
       "        vertical-align: middle;\n",
       "    }\n",
       "\n",
       "    .dataframe tbody tr th {\n",
       "        vertical-align: top;\n",
       "    }\n",
       "\n",
       "    .dataframe thead th {\n",
       "        text-align: right;\n",
       "    }\n",
       "</style>\n",
       "<table border=\"1\" class=\"dataframe\">\n",
       "  <thead>\n",
       "    <tr style=\"text-align: right;\">\n",
       "      <th></th>\n",
       "      <th>CustomerID</th>\n",
       "      <th>Gender</th>\n",
       "      <th>Age</th>\n",
       "      <th>Annual_Income</th>\n",
       "      <th>Spending_Score</th>\n",
       "      <th>Profession</th>\n",
       "      <th>Work_Experience</th>\n",
       "      <th>Family_Size</th>\n",
       "    </tr>\n",
       "  </thead>\n",
       "  <tbody>\n",
       "    <tr>\n",
       "      <th>0</th>\n",
       "      <td>1</td>\n",
       "      <td>Male</td>\n",
       "      <td>19</td>\n",
       "      <td>15000</td>\n",
       "      <td>39</td>\n",
       "      <td>Healthcare</td>\n",
       "      <td>1</td>\n",
       "      <td>4</td>\n",
       "    </tr>\n",
       "    <tr>\n",
       "      <th>1</th>\n",
       "      <td>2</td>\n",
       "      <td>Male</td>\n",
       "      <td>21</td>\n",
       "      <td>35000</td>\n",
       "      <td>81</td>\n",
       "      <td>Engineer</td>\n",
       "      <td>3</td>\n",
       "      <td>3</td>\n",
       "    </tr>\n",
       "    <tr>\n",
       "      <th>2</th>\n",
       "      <td>3</td>\n",
       "      <td>Female</td>\n",
       "      <td>20</td>\n",
       "      <td>86000</td>\n",
       "      <td>6</td>\n",
       "      <td>Engineer</td>\n",
       "      <td>1</td>\n",
       "      <td>1</td>\n",
       "    </tr>\n",
       "    <tr>\n",
       "      <th>3</th>\n",
       "      <td>4</td>\n",
       "      <td>Female</td>\n",
       "      <td>23</td>\n",
       "      <td>59000</td>\n",
       "      <td>77</td>\n",
       "      <td>Lawyer</td>\n",
       "      <td>0</td>\n",
       "      <td>2</td>\n",
       "    </tr>\n",
       "    <tr>\n",
       "      <th>4</th>\n",
       "      <td>5</td>\n",
       "      <td>Female</td>\n",
       "      <td>31</td>\n",
       "      <td>38000</td>\n",
       "      <td>40</td>\n",
       "      <td>Entertainment</td>\n",
       "      <td>2</td>\n",
       "      <td>6</td>\n",
       "    </tr>\n",
       "  </tbody>\n",
       "</table>\n",
       "</div>"
      ],
      "text/plain": [
       "   CustomerID  Gender  Age  Annual_Income  Spending_Score     Profession  \\\n",
       "0           1    Male   19          15000              39     Healthcare   \n",
       "1           2    Male   21          35000              81       Engineer   \n",
       "2           3  Female   20          86000               6       Engineer   \n",
       "3           4  Female   23          59000              77         Lawyer   \n",
       "4           5  Female   31          38000              40  Entertainment   \n",
       "\n",
       "   Work_Experience  Family_Size  \n",
       "0                1            4  \n",
       "1                3            3  \n",
       "2                1            1  \n",
       "3                0            2  \n",
       "4                2            6  "
      ]
     },
     "execution_count": 13,
     "metadata": {},
     "output_type": "execute_result"
    }
   ],
   "source": [
    "df_customer.head()# checking for the applied changes"
   ]
  },
  {
   "cell_type": "code",
   "execution_count": 14,
   "id": "4bdec63f",
   "metadata": {},
   "outputs": [
    {
     "data": {
      "text/html": [
       "<div>\n",
       "<style scoped>\n",
       "    .dataframe tbody tr th:only-of-type {\n",
       "        vertical-align: middle;\n",
       "    }\n",
       "\n",
       "    .dataframe tbody tr th {\n",
       "        vertical-align: top;\n",
       "    }\n",
       "\n",
       "    .dataframe thead th {\n",
       "        text-align: right;\n",
       "    }\n",
       "</style>\n",
       "<table border=\"1\" class=\"dataframe\">\n",
       "  <thead>\n",
       "    <tr style=\"text-align: right;\">\n",
       "      <th></th>\n",
       "      <th>Family_Size</th>\n",
       "      <th>Age</th>\n",
       "      <th>Annual_Income</th>\n",
       "      <th>Spending_Score</th>\n",
       "      <th>Work_Experience</th>\n",
       "    </tr>\n",
       "  </thead>\n",
       "  <tbody>\n",
       "    <tr>\n",
       "      <th>count</th>\n",
       "      <td>2000.000000</td>\n",
       "      <td>2000.000000</td>\n",
       "      <td>2000.000000</td>\n",
       "      <td>2000.000000</td>\n",
       "      <td>2000.000000</td>\n",
       "    </tr>\n",
       "    <tr>\n",
       "      <th>mean</th>\n",
       "      <td>3.768500</td>\n",
       "      <td>48.960000</td>\n",
       "      <td>110731.821500</td>\n",
       "      <td>50.962500</td>\n",
       "      <td>4.102500</td>\n",
       "    </tr>\n",
       "    <tr>\n",
       "      <th>std</th>\n",
       "      <td>1.970749</td>\n",
       "      <td>28.429747</td>\n",
       "      <td>45739.536688</td>\n",
       "      <td>27.934661</td>\n",
       "      <td>3.922204</td>\n",
       "    </tr>\n",
       "    <tr>\n",
       "      <th>min</th>\n",
       "      <td>1.000000</td>\n",
       "      <td>0.000000</td>\n",
       "      <td>0.000000</td>\n",
       "      <td>0.000000</td>\n",
       "      <td>0.000000</td>\n",
       "    </tr>\n",
       "    <tr>\n",
       "      <th>25%</th>\n",
       "      <td>2.000000</td>\n",
       "      <td>25.000000</td>\n",
       "      <td>74572.000000</td>\n",
       "      <td>28.000000</td>\n",
       "      <td>1.000000</td>\n",
       "    </tr>\n",
       "    <tr>\n",
       "      <th>50%</th>\n",
       "      <td>4.000000</td>\n",
       "      <td>48.000000</td>\n",
       "      <td>110045.000000</td>\n",
       "      <td>50.000000</td>\n",
       "      <td>3.000000</td>\n",
       "    </tr>\n",
       "    <tr>\n",
       "      <th>75%</th>\n",
       "      <td>5.000000</td>\n",
       "      <td>73.000000</td>\n",
       "      <td>149092.750000</td>\n",
       "      <td>75.000000</td>\n",
       "      <td>7.000000</td>\n",
       "    </tr>\n",
       "    <tr>\n",
       "      <th>max</th>\n",
       "      <td>9.000000</td>\n",
       "      <td>99.000000</td>\n",
       "      <td>189974.000000</td>\n",
       "      <td>100.000000</td>\n",
       "      <td>17.000000</td>\n",
       "    </tr>\n",
       "  </tbody>\n",
       "</table>\n",
       "</div>"
      ],
      "text/plain": [
       "       Family_Size          Age  Annual_Income  Spending_Score  \\\n",
       "count  2000.000000  2000.000000    2000.000000     2000.000000   \n",
       "mean      3.768500    48.960000  110731.821500       50.962500   \n",
       "std       1.970749    28.429747   45739.536688       27.934661   \n",
       "min       1.000000     0.000000       0.000000        0.000000   \n",
       "25%       2.000000    25.000000   74572.000000       28.000000   \n",
       "50%       4.000000    48.000000  110045.000000       50.000000   \n",
       "75%       5.000000    73.000000  149092.750000       75.000000   \n",
       "max       9.000000    99.000000  189974.000000      100.000000   \n",
       "\n",
       "       Work_Experience  \n",
       "count      2000.000000  \n",
       "mean          4.102500  \n",
       "std           3.922204  \n",
       "min           0.000000  \n",
       "25%           1.000000  \n",
       "50%           3.000000  \n",
       "75%           7.000000  \n",
       "max          17.000000  "
      ]
     },
     "execution_count": 14,
     "metadata": {},
     "output_type": "execute_result"
    }
   ],
   "source": [
    "#summary Statistics of the Numerical Columns\n",
    "df_customer.describe()[['Family_Size','Age','Annual_Income','Spending_Score','Work_Experience']]"
   ]
  },
  {
   "cell_type": "markdown",
   "id": "dcfa5c4c",
   "metadata": {},
   "source": [
    "## Distributions of values  of the Numeric Columns"
   ]
  },
  {
   "cell_type": "code",
   "execution_count": 15,
   "id": "4cf9c25f",
   "metadata": {},
   "outputs": [],
   "source": [
    "def my_hist(df,col,x_lab=None,y_lab=None,title=None,bins=None):\n",
    "    sb.set_style('darkgrid')\n",
    "    plt.hist(data=df, x= col,bins=bins);\n",
    "    plt.xlabel(x_lab,fontsize=15);\n",
    "    plt.ylabel(y_lab,fontsize=15);\n",
    "    plt.title(title,fontsize=15);\n"
   ]
  },
  {
   "cell_type": "code",
   "execution_count": 16,
   "id": "86d1c7ea",
   "metadata": {},
   "outputs": [
    {
     "data": {
      "image/png": "[encoded data removed]",
      "text/plain": [
       "<Figure size 2000x1500 with 5 Axes>"
      ]
     },
     "metadata": {},
     "output_type": "display_data"
    }
   ],
   "source": [
    "\n",
    "plt.figure(figsize=(20,15))\n",
    "#plotting distribution of Family size\n",
    "plt.subplot(2,3,1)\n",
    "x_lab= 'Family Size'\n",
    "y_lab= 'Frequency'\n",
    "title= 'Distribution of Family Size'\n",
    "bins= np.arange(1,10,1);\n",
    "my_hist(df_customer,'Family_Size',x_lab,y_lab,title,bins=bins);\n",
    "\n",
    "\n",
    "#plotting distribution of Age\n",
    "plt.subplot(2,3,2)\n",
    "x_lab= 'Age'\n",
    "y_lab= 'Frequency'\n",
    "title= 'Distribution of Age'\n",
    "bins= np.arange(0,110,10);\n",
    "my_hist(df_customer,'Age',x_lab,y_lab,title,bins=bins);\n",
    "\n",
    "#plotting distribution of Annual income\n",
    "plt.subplot(2,3,3)\n",
    "x_lab= 'Annual Income'\n",
    "y_lab= 'Frequency'\n",
    "title= 'Distribution of Annual Income'\n",
    "bins= np.arange(0,20000,1000);\n",
    "my_hist(df_customer,'Annual_Income',x_lab,y_lab,title,bins=bins);\n",
    "\n",
    "\n",
    "#plotting distribution of Spending score \n",
    "plt.subplot(2,3,4)\n",
    "x_lab= 'Spending Score'\n",
    "y_lab= 'Frequency'\n",
    "title= 'Distribution of Spending Score'\n",
    "bins= np.arange(0,150,10);\n",
    "my_hist(df_customer,'Spending_Score',x_lab,y_lab,title,bins);\n",
    "\n",
    "#plotting distribution of Work Experience\n",
    "plt.subplot(2,3,5)\n",
    "x_lab= 'Work Experience'\n",
    "y_lab= 'Frequency'\n",
    "title= 'Distribution of Work Experience'\n",
    "bins= np.arange(0,20,2);\n",
    "my_hist(df_customer,'Work_Experience',x_lab,y_lab,title,bins);"
   ]
  },
  {
   "cell_type": "markdown",
   "id": "2de09195",
   "metadata": {},
   "source": [
    "## Relationships Between Variables"
   ]
  },
  {
   "cell_type": "markdown",
   "id": "ada60fff",
   "metadata": {},
   "source": [
    "### <u>Age vs Annual_Income</u>"
   ]
  },
  {
   "cell_type": "code",
   "execution_count": 17,
   "id": "2ce96b5d",
   "metadata": {},
   "outputs": [
    {
     "data": {
      "text/plain": [
       "count    2000.000000\n",
       "mean       48.960000\n",
       "std        28.429747\n",
       "min         0.000000\n",
       "25%        25.000000\n",
       "50%        48.000000\n",
       "75%        73.000000\n",
       "max        99.000000\n",
       "Name: Age, dtype: float64"
      ]
     },
     "execution_count": 17,
     "metadata": {},
     "output_type": "execute_result"
    }
   ],
   "source": [
    "df_customer.Age.describe()"
   ]
  },
  {
   "cell_type": "code",
   "execution_count": 18,
   "id": "41d719fc",
   "metadata": {
    "scrolled": true
   },
   "outputs": [],
   "source": [
    "# Set a number of bins into which the data will be grouped.\n",
    "# Set bin edges, and compute center of each bin \n",
    "bin_edges = np.arange(0, 99+10, 10)\n",
    "bin_centers = bin_edges[:-1] + 5"
   ]
  },
  {
   "cell_type": "code",
   "execution_count": 19,
   "id": "445d2951",
   "metadata": {},
   "outputs": [
    {
     "ename": "NameError",
     "evalue": "name 'Age_binned' is not defined",
     "output_type": "error",
     "traceback": [
      "\u001b[0;31m---------------------------------------------------------------------------\u001b[0m",
      "\u001b[0;31mNameError\u001b[0m                                 Traceback (most recent call last)",
      "\u001b[0;32m/tmp/ipykernel_22267/1298627613.py\u001b[0m in \u001b[0;36m<module>\u001b[0;34m\u001b[0m\n\u001b[1;32m      1\u001b[0m \u001b[0;31m# For the points in each bin, we compute the mean and standard error of the mean.\u001b[0m\u001b[0;34m\u001b[0m\u001b[0;34m\u001b[0m\u001b[0m\n\u001b[0;32m----> 2\u001b[0;31m \u001b[0mAnnual_Income_mean\u001b[0m \u001b[0;34m=\u001b[0m \u001b[0mdf_customer\u001b[0m\u001b[0;34m[\u001b[0m\u001b[0;34m'Annual_Income'\u001b[0m\u001b[0;34m]\u001b[0m\u001b[0;34m.\u001b[0m\u001b[0mgroupby\u001b[0m\u001b[0;34m(\u001b[0m\u001b[0mAge_binned\u001b[0m\u001b[0;34m)\u001b[0m\u001b[0;34m.\u001b[0m\u001b[0mmean\u001b[0m\u001b[0;34m(\u001b[0m\u001b[0;34m)\u001b[0m\u001b[0;34m\u001b[0m\u001b[0;34m\u001b[0m\u001b[0m\n\u001b[0m\u001b[1;32m      3\u001b[0m \u001b[0mAnnual_Income_std\u001b[0m \u001b[0;34m=\u001b[0m \u001b[0mdf_customer\u001b[0m\u001b[0;34m[\u001b[0m\u001b[0;34m'Annual_Income'\u001b[0m\u001b[0;34m]\u001b[0m\u001b[0;34m.\u001b[0m\u001b[0mgroupby\u001b[0m\u001b[0;34m(\u001b[0m\u001b[0mAge_binned\u001b[0m\u001b[0;34m)\u001b[0m\u001b[0;34m.\u001b[0m\u001b[0mstd\u001b[0m\u001b[0;34m(\u001b[0m\u001b[0;34m)\u001b[0m\u001b[0;34m\u001b[0m\u001b[0;34m\u001b[0m\u001b[0m\n",
      "\u001b[0;31mNameError\u001b[0m: name 'Age_binned' is not defined"
     ]
    }
   ],
   "source": [
    "# For the points in each bin, we compute the mean and standard error of the mean.\n",
    "Annual_Income_mean = df_customer['Annual_Income'].groupby(Age_binned).mean()\n",
    "Annual_Income_std = df_customer['Annual_Income'].groupby(Age_binned).std()"
   ]
  },
  {
   "cell_type": "code",
   "execution_count": null,
   "id": "930f8ccb",
   "metadata": {},
   "outputs": [],
   "source": [
    "# Plot the summarized data\n",
    "plt.errorbar(x=bin_centers, y=Annual_Income_mean)\n",
    "plt.xticks(rotation=15);\n",
    "plt.ylabel('Average Annual Income');"
   ]
  },
  {
   "cell_type": "code",
   "execution_count": null,
   "id": "42aa5bde",
   "metadata": {},
   "outputs": [],
   "source": [
    "plt.figure(figsize=(5,6));\n",
    "sb.boxplot(data=df_customer, x= 'Gender', y= 'Age',color=sb.color_palette()[4]);\n",
    "plt.title('Gender vs Age');\n"
   ]
  },
  {
   "cell_type": "markdown",
   "id": "b4b0b56e",
   "metadata": {},
   "source": [
    "### <u>Gender vs Profession</u>"
   ]
  },
  {
   "cell_type": "code",
   "execution_count": null,
   "id": "39ff7b7b",
   "metadata": {},
   "outputs": [],
   "source": [
    "g= sb.FacetGrid(data=df_customer, col= 'Gender', height=4,aspect=1.3, margin_titles= True);\n",
    "g.map(sb.countplot, 'Profession');\n",
    "g.set_titles('{col_name}');\n",
    "g.set_xticklabels(rotation=45);"
   ]
  },
  {
   "cell_type": "markdown",
   "id": "6227c9c4",
   "metadata": {},
   "source": [
    "### Questions for analyses\n",
    "* Does Gender have any effect on Spending score?\n",
    "* Which Profession earns more and do they spend more?\n",
    "* Which age range spends more in the retail shop?\n",
    "* Do experienced workers spend more?"
   ]
  },
  {
   "cell_type": "markdown",
   "id": "90a69ebd",
   "metadata": {},
   "source": [
    "#### 1. Does Gender have any effect on Spending score?"
   ]
  },
  {
   "cell_type": "code",
   "execution_count": 25,
   "id": "bd133dc4",
   "metadata": {},
   "outputs": [
    {
     "data": {
      "image/png": "[encoded data removed]",
      "text/plain": [
       "<Figure size 500x600 with 1 Axes>"
      ]
     },
     "metadata": {},
     "output_type": "display_data"
    }
   ],
   "source": [
    "plt.figure(figsize=(5,6));\n",
    "sb.stripplot(data=df_customer, x= 'Profezz', y= 'Gender',color=sb.color_palette()[4]);\n",
    "\n"
   ]
  },
  {
   "cell_type": "code",
   "execution_count": null,
   "id": "7011cfa4",
   "metadata": {},
   "outputs": [],
   "source": []
  }
 ],
 "metadata": {
  "kernelspec": {
   "display_name": "Python 3 (ipykernel)",
   "language": "python",
   "name": "python3"
  },
  "language_info": {
   "codemirror_mode": {
    "name": "ipython",
    "version": 3
   },
   "file_extension": ".py",
   "mimetype": "text/x-python",
   "name": "python",
   "nbconvert_exporter": "python",
   "pygments_lexer": "ipython3",
   "version": "3.9.15"
  }
 },
 "nbformat": 4,
 "nbformat_minor": 5
}
